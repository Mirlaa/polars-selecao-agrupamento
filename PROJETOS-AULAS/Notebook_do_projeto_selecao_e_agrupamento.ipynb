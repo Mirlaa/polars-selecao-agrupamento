{
  "cells": [
    {
      "cell_type": "markdown",
      "metadata": {
        "id": "uzv2yqSO9cn3"
      },
      "source": [
        "Você pode acessar a [fonte](https://basedosdados.org/) de coleta dos dados. A fonte primária dos dados utilizados pode ser acessada nos seguintes links:\n",
        "- [Emissões de gases de efeito estufa no Brasil - UF.csv](https://seeg.eco.br/)\n",
        "- [Instituto Nacional de Meteorologia (INMET)(2023-2024).csv](https://portal.inmet.gov.br/dadoshistoricos)\n",
        "- [CatalogoEstaçõesAutomáticas.csv](https://portal.inmet.gov.br/paginas/catalogoaut)"
      ]
    },
    {
      "cell_type": "markdown",
      "metadata": {
        "id": "ogfhD4maipZF"
      },
      "source": [
        "# Aula 1 - Iniciando as seleções de dados"
      ]
    },
    {
      "cell_type": "code",
      "execution_count": null,
      "metadata": {
        "id": "4GFDvIEitJfg"
      },
      "outputs": [],
      "source": [
        "url_gee = ''"
      ]
    },
    {
      "cell_type": "code",
      "execution_count": null,
      "metadata": {
        "id": "hwWqWu4TsYBe"
      },
      "outputs": [],
      "source": []
    },
    {
      "cell_type": "code",
      "execution_count": null,
      "metadata": {
        "id": "kUvrUKMmsX6m"
      },
      "outputs": [],
      "source": []
    },
    {
      "cell_type": "markdown",
      "metadata": {
        "id": "tQOkkk7Ke0QB"
      },
      "source": [
        "<font size=4>[`polars.read_csv`](https://docs.pola.rs/api/python/stable/reference/api/polars.read_csv.html)</font><br>"
      ]
    },
    {
      "cell_type": "code",
      "execution_count": null,
      "metadata": {
        "id": "lbcsRNAFsZd9"
      },
      "outputs": [],
      "source": []
    },
    {
      "cell_type": "markdown",
      "metadata": {
        "id": "2JWDfcq_eLNz"
      },
      "source": [
        "<font size=4>[`polars.DataFrame.shape`](https://docs.pola.rs/api/python/stable/reference/dataframe/api/polars.DataFrame.shape.html)</font><br>"
      ]
    },
    {
      "cell_type": "code",
      "execution_count": null,
      "metadata": {
        "id": "9NvRuJQ4saMu"
      },
      "outputs": [],
      "source": []
    },
    {
      "cell_type": "markdown",
      "metadata": {
        "id": "HquC7Iylejb4"
      },
      "source": [
        "<font size=4>[`polars.DataFrame.head`](https://docs.pola.rs/api/python/stable/reference/dataframe/api/polars.DataFrame.head.html)</font><br>\n",
        "\n",
        "| Nome   | Descrição   | Tipo |\n",
        "|-------|-----------|------------|\n",
        "| ano | Ano                            | INT64            |\n",
        "| sigla_uf    | Sigla da Unidade da Federação | STRING           |\n",
        "| nivel_1    | Nível 1 - Setor               | STRING           |\n",
        "| nivel_2     | Nível 2 - Processo Emissor    | STRING           |\n",
        "| nivel_3      | Nível 3 - Forma de Emissão    | STRING           |\n",
        "| nivel_4      | Nível 4 - Processo Específico | STRING           |\n",
        "| nivel_5       | Nível 5 - Tipo de Atividade   | STRING           |\n",
        "| nivel_6      | Nível 6 - Atividade Específica| STRING           |\n",
        "| tipo_emissao   | Tipo de Emissão               | STRING           |\n",
        "| gas          | Gás                           | STRING           |\n",
        "| atividade_economica  | Atividade Econômica    | STRING     |\n",
        "| emissao    | Emissão                       | FLOAT64          |"
      ]
    },
    {
      "cell_type": "code",
      "execution_count": null,
      "metadata": {
        "id": "ipsMHF9vsbOY"
      },
      "outputs": [],
      "source": []
    },
    {
      "cell_type": "markdown",
      "metadata": {
        "id": "_3K9NDyXN_9I"
      },
      "source": [
        "<font size=4>[`polars.DataFrame.describe`](https://docs.pola.rs/api/python/stable/reference/dataframe/api/polars.DataFrame.describe.html), [`polars.DataFrame.select`](https://docs.pola.rs/api/python/stable/reference/dataframe/api/polars.DataFrame.select.html)</font><br>\n",
        "\n",
        "\n",
        "\n",
        "O conceito de carbono negativo seria remover mais do que se emite. Por exemplo, se determinada companhia emite 1 milhão de toneladas de CO2 na atmosfera, para que ela opere em modo carbono negativo, é preciso que ela retire ou retenha mais de 1 milhão de toneladas de CO2 da atmosfera, tornando assim sua emissão de carbono negativa.\n",
        "\n",
        "> <font size=2>[Fonte.](https://www.bureauveritas.com.br/en/node/4831)</font><br>"
      ]
    },
    {
      "cell_type": "code",
      "execution_count": null,
      "metadata": {
        "id": "VHjFPB6csTZs"
      },
      "outputs": [],
      "source": []
    },
    {
      "cell_type": "markdown",
      "metadata": {
        "id": "LZdi06i2h-ES"
      },
      "source": [
        "<font size=4>[`polars.DataFrame.sort`](https://docs.pola.rs/api/python/stable/reference/dataframe/api/polars.DataFrame.sort.html)</font><br>"
      ]
    },
    {
      "cell_type": "markdown",
      "metadata": {
        "id": "CZUsVW4Ni1GE"
      },
      "source": [
        "## Remoção de GEE"
      ]
    },
    {
      "cell_type": "markdown",
      "metadata": {
        "id": "OsHFnb40RBfd"
      },
      "source": [
        "> Nossa equipe precisa identificar dados de remoção ou compensação de gases de efeito estufa (GEE) no Brasil entre os anos de 2014 e 2019. Essas informações podem ser úteis para avaliar se, além das emissões ativas, existem iniciativas ou processos naturais significativos que estejam reduzindo ou compensando as emissões de CO₂ e outros gases nocivos nesse período. Historicamente, alguns setores ou regiões podem apresentar números expressivos de remoção (por exemplo, áreas que sofrem reflorestamento ou grandes reservas naturais que absorvem carbono). A análise pode ajudar os tomadores de decisão a entender se as remoções/compensações estão crescendo ou diminuindo ao longo dos anos.\n",
        "\n",
        "<font size=2>[Fonte.](https://www.wribrasil.org.br/noticias/estes-40-casos-mostram-como-o-reflorestamento-com-nativas-traz-retorno-economico-e)</font><br>"
      ]
    },
    {
      "cell_type": "code",
      "execution_count": null,
      "metadata": {
        "id": "tnWvnVp5sQdS"
      },
      "outputs": [],
      "source": []
    },
    {
      "cell_type": "markdown",
      "metadata": {
        "id": "CdKv92QGiTwp"
      },
      "source": [
        "<font size=4>[`polars.DataFrame.filter`](https://docs.pola.rs/api/python/stable/reference/dataframe/api/polars.DataFrame.filter.html)</font><br>"
      ]
    },
    {
      "cell_type": "code",
      "execution_count": null,
      "metadata": {
        "id": "aYPD9_g0sPFN"
      },
      "outputs": [],
      "source": []
    },
    {
      "cell_type": "markdown",
      "metadata": {
        "id": "d21xI2nhjDe2"
      },
      "source": [
        "<font size=4>[`polars.Expr.is_between`](https://docs.pola.rs/api/python/stable/reference/expressions/api/polars.Expr.is_between.html)</font><br>"
      ]
    },
    {
      "cell_type": "code",
      "execution_count": null,
      "metadata": {
        "id": "eFpQ9Ke7sGkh"
      },
      "outputs": [],
      "source": []
    },
    {
      "cell_type": "code",
      "execution_count": null,
      "metadata": {
        "id": "hyN6mst8sFkU"
      },
      "outputs": [],
      "source": []
    },
    {
      "cell_type": "markdown",
      "metadata": {
        "id": "DTYb34YSidws"
      },
      "source": [
        "<font size=4>[`polars.DataFrame.write_csv`](https://docs.pola.rs/api/python/stable/reference/api/polars.DataFrame.write_csv.html)</font><br>"
      ]
    },
    {
      "cell_type": "markdown",
      "metadata": {
        "id": "39qo_XwZnb_k"
      },
      "source": [
        "## Separando dados por UF"
      ]
    },
    {
      "cell_type": "markdown",
      "metadata": {
        "id": "MtgZjdkOnEOU"
      },
      "source": [
        "> Outra informação que precisamos receber está associado aos valores de emissão de GEE nos anos de 2009 a 2019 no Pará. O Pará está localizado na região amazônica, historicamente impactada por desmatamento e mudanças no uso da terra, o que pode influenciar diretamente as emissões de gases de efeito estufa. Levar esses dados para a equipe vai permitir que análises sejam feitas para verificar se existe tendência de aumento ou redução e relacionar com potenciais políticas públicas de controle e manejo sustentável.\n",
        "\n",
        "<font size=2>[Fonte 1,](https://cnm.org.br/comunicacao/noticias/desmatamento-na-amaz%C3%B4nia-contribui-com-25-da-emiss%C3%A3o-de-gees) [Fonte 2.](https://energiaeambiente.org.br/oito-dos-dez-municipios-que-mais-emitem-gases-de-efeito-estufa-estao-na-amazonia-20220617)</font><br>"
      ]
    },
    {
      "cell_type": "code",
      "execution_count": null,
      "metadata": {
        "id": "8V0SjRZ0sEBA"
      },
      "outputs": [],
      "source": []
    },
    {
      "cell_type": "markdown",
      "metadata": {
        "id": "JVTfjFtWj0_D"
      },
      "source": [
        "<font size=4>[`polars.Expr.is_in`](https://docs.pola.rs/api/python/stable/reference/expressions/api/polars.Expr.is_in.html)</font><br>"
      ]
    },
    {
      "cell_type": "code",
      "execution_count": null,
      "metadata": {
        "id": "6pO-4L9hsCaU"
      },
      "outputs": [],
      "source": []
    },
    {
      "cell_type": "markdown",
      "metadata": {
        "id": "b5I0cmI0JPkN"
      },
      "source": [
        "# Aula 2 - Selecionando valores GEE através de textos"
      ]
    },
    {
      "cell_type": "markdown",
      "metadata": {
        "id": "oZjj3vO8-RZE"
      },
      "source": [
        "## Encontrando as emissões de NOx"
      ]
    },
    {
      "cell_type": "code",
      "execution_count": null,
      "metadata": {
        "id": "iNt38Y_mr-6U"
      },
      "outputs": [],
      "source": [
        "df['gas'].unique().to_list()"
      ]
    },
    {
      "cell_type": "markdown",
      "metadata": {
        "id": "UyTU2y5niffw"
      },
      "source": [
        "<font size=4>[`polars.Expr.unique`](https://docs.pola.rs/api/python/stable/reference/expressions/api/polars.Expr.unique.html), [`polars.Expr.arr.to_list`](https://docs.pola.rs/api/python/stable/reference/expressions/api/polars.Expr.arr.to_list.html)</font><br>"
      ]
    },
    {
      "cell_type": "markdown",
      "metadata": {
        "id": "wvu7dV7S6XEk"
      },
      "source": [
        "> Os óxidos de nitrogênio (NOx) compõe o GEE. No entanto, no conjunto de dados, há colunas separadas para “NOx” e “NOX” que, na prática, representam a mesma categoria, mas foram preenchidas de forma distinta. Nossa equipe deseja obter o valor total registrado de óxidos de nitrogênio no ano de 2019, buscando uma análise consistente das emissões.\n",
        "\n",
        "<font size=2>[Fonte.](https://www.em.com.br/app/noticia/internacional/2015/11/04/interna_internacional,704478/o-nox-um-contaminante-atmosferico-e-o-co2-um-gas-de-efeito-estufa.shtml)</font><br>\n"
      ]
    },
    {
      "cell_type": "code",
      "execution_count": null,
      "metadata": {
        "id": "kS30wrLgr9KO"
      },
      "outputs": [],
      "source": []
    },
    {
      "cell_type": "markdown",
      "metadata": {
        "id": "3VcPK2xYiirR"
      },
      "source": [
        "<font size=4>[`polars.Expr.str.contains`](https://docs.pola.rs/api/python/stable/reference/expressions/api/polars.Expr.str.contains.html)</font><br>"
      ]
    },
    {
      "cell_type": "code",
      "execution_count": null,
      "metadata": {
        "id": "jD_v4WzVr1rw"
      },
      "outputs": [],
      "source": []
    },
    {
      "cell_type": "markdown",
      "metadata": {
        "id": "VqUl3yacikXf"
      },
      "source": [
        "<font size=4> [`polars.Expr.sum`](https://docs.pola.rs/api/python/stable/reference/expressions/api/polars.Expr.sum.html), [`polars.DataFrame.item`](https://docs.pola.rs/api/python/stable/reference/dataframe/api/polars.DataFrame.item.html)</font><br>"
      ]
    },
    {
      "cell_type": "markdown",
      "metadata": {
        "id": "n4TFddiGfkoR"
      },
      "source": [
        "## Entendendo as emissões de NOx"
      ]
    },
    {
      "cell_type": "markdown",
      "metadata": {
        "id": "ut-k1Pit-Di-"
      },
      "source": [
        "> As emissões de óxidos de nitrogênio (NOx) estão associadas a diversas atividades industriais e de transporte. No entanto, para uma análise mais específica, nossa equipe deseja compreender quais formas de emissão dentro dessas categorias mais contribuem para as emissões. A separação por formas industriais, transportes e produção permitirá identificar padrões e subsidiar decisões voltadas para mitigação e controle de poluentes.\n",
        "\n",
        "<font size=2>[Fonte traduzida com Google Tradutor.](https://www-noxfondet-no.translate.goog/en/articles/what-is-nox/?_x_tr_sl=pt&_x_tr_tl=en&_x_tr_hl=pt-BR&_x_tr_pto=wapp)</font><br>\n"
      ]
    },
    {
      "cell_type": "code",
      "execution_count": null,
      "metadata": {
        "id": "z7cX_sOMmJcd"
      },
      "outputs": [],
      "source": [
        "df_nox = df.filter(pl.col('gas').str.contains('NO'))"
      ]
    },
    {
      "cell_type": "code",
      "execution_count": null,
      "metadata": {
        "id": "G2zCqyw-rhzE"
      },
      "outputs": [],
      "source": []
    },
    {
      "cell_type": "code",
      "execution_count": null,
      "metadata": {
        "id": "RkprlKt6rhs8"
      },
      "outputs": [],
      "source": []
    },
    {
      "cell_type": "code",
      "execution_count": null,
      "metadata": {
        "id": "CIEvDIOHrhhE"
      },
      "outputs": [],
      "source": []
    },
    {
      "cell_type": "code",
      "execution_count": null,
      "metadata": {
        "id": "vieJAUczrhaE"
      },
      "outputs": [],
      "source": []
    },
    {
      "cell_type": "markdown",
      "metadata": {
        "id": "oEd021SJkcPN"
      },
      "source": [
        "<font size=4>[`polars.DataFrame.group_by`](https://docs.pola.rs/api/python/stable/reference/dataframe/api/polars.DataFrame.group_by.html), [`polars.dataframe.group_by.GroupBy.agg`](https://docs.pola.rs/api/python/stable/reference/dataframe/api/polars.dataframe.group_by.GroupBy.agg.html), [`polars.dataframe.group_by.GroupBy.sum`](https://docs.pola.rs/api/python/stable/reference/dataframe/api/polars.dataframe.group_by.GroupBy.sum.html), [`polars.Expr.alias`](https://docs.pola.rs/api/python/stable/reference/expressions/api/polars.Expr.alias.html)</font><br>"
      ]
    },
    {
      "cell_type": "code",
      "execution_count": null,
      "metadata": {
        "id": "W7utKcnibt2-"
      },
      "outputs": [],
      "source": [
        "import matplotlib.pyplot as plt\n",
        "\n",
        "def tabela(df, titulo = '', nota='', tamanho = (7, 2)):\n",
        "  # Criar a figura e o eixo\n",
        "  fig, ax = plt.subplots(figsize=tamanho)  # Ajuste o tamanho conforme necessário\n",
        "  ax.axis('off')\n",
        "\n",
        "  # Criar tabela\n",
        "  tabela = ax.table(cellText=df.to_pandas().round(2).values,\n",
        "                    colLabels=df.columns,\n",
        "                    colColours=['#D3D3D3'] * len(df.columns),\n",
        "                    cellLoc='center',\n",
        "                    loc='center')\n",
        "  # Adicionar um título\n",
        "  plt.title(titulo)\n",
        "\n",
        "  # Adcionar uma nota\n",
        "  if nota!='':\n",
        "    plt.figtext(0.5, 0.02, f'Nota: {nota}',\n",
        "                ha='center', fontsize=8, fontstyle='italic')\n",
        "  # Salvar como imagem\n",
        "  plt.savefig(f'TABELA - {titulo}.png', dpi=300, bbox_inches='tight')\n",
        "\n",
        "  # Exibir a imagem\n",
        "  plt.show()"
      ]
    },
    {
      "cell_type": "markdown",
      "metadata": {
        "id": "7Spwh-xokjre"
      },
      "source": [
        "<font size=4>[`matplotlib.pyplot`](https://matplotlib.org/3.5.3/api/_as_gen/matplotlib.pyplot.html)</font><br>"
      ]
    },
    {
      "cell_type": "code",
      "execution_count": null,
      "metadata": {
        "id": "pwo0ZpqmrZuu"
      },
      "outputs": [],
      "source": []
    },
    {
      "cell_type": "markdown",
      "metadata": {
        "id": "7XWkNIQIovU8"
      },
      "source": [
        "> Além de entender quais formas mais contribuem para as emissões de NOx, é importante analisar essas emissões em um nível mais amplo. Por isso é necessário identificar a relação entre categorias gerais de setores (nível 1) e as formas de emissão (nível 3) para compreender melhor a estrutura das emissões e possíveis alvos para redução.\n"
      ]
    },
    {
      "cell_type": "code",
      "execution_count": null,
      "metadata": {
        "id": "K40ZsMuOrY0p"
      },
      "outputs": [],
      "source": []
    },
    {
      "cell_type": "code",
      "execution_count": null,
      "metadata": {
        "id": "Z6kh90lhrYyY"
      },
      "outputs": [],
      "source": []
    },
    {
      "cell_type": "markdown",
      "metadata": {
        "id": "Br-jvd5ev-0l"
      },
      "source": [
        "# Aula 3 - Explorando categorias de GEE"
      ]
    },
    {
      "cell_type": "markdown",
      "metadata": {
        "id": "JVN5pkCCMkoz"
      },
      "source": [
        "## Reclassificando os gases emitidos"
      ]
    },
    {
      "cell_type": "code",
      "execution_count": null,
      "metadata": {
        "id": "_ZW9b9Ngqdbn"
      },
      "outputs": [],
      "source": [
        "df['gas'].unique().to_list()"
      ]
    },
    {
      "cell_type": "markdown",
      "metadata": {
        "id": "1EnECfLbWFXk"
      },
      "source": [
        "**Lista de GEE:**\n",
        "\n",
        "1. CO2 - Dióxido de Carbono.\n",
        "2. CH4 - Metano.\n",
        "3. N2O - Óxido Nitroso.  \n",
        "4. NOx/NOX - óxidos de nitrogênio - um conjunto de gases contendo nitrogênio e oxigênio.\n",
        "5. CO - Monóxido de Carbono.  \n",
        "6. COVNM - Compostos Orgânicos Voláteis Não Metanosos.\n",
        "7. CF4 - Tetrafluorometano.\n",
        "8. C2F6 - Hexafluoretano.\n",
        "9. SF6 - Hexafluoreto de Enxofre.\n",
        "\n",
        "<font size=2>[Fonte.](https://semil.sp.gov.br/educacaoambiental/prateleira-ambiental/gases-de-efeito-estufa-gee/)</font><br>\n",
        "\n",
        "**O que é “CO2e”?**\n",
        "\n",
        "CO2e significa “**dióxido de carbono equivalente**”. É uma forma de padronizar o impacto dos diferentes gases usando o CO2 como referência.\n",
        "\n",
        "A diferença entre “GWP” e “GTP” muda a forma de calcular o fator de conversão para “CO2 equivalente”, e a diferença entre “AR2”, “AR4” e “AR5” reflete as atualizações e melhorias científicas entre cada relatório do [IPCC](https://www.ipcc.ch/about/)\n",
        "\n",
        "- Caso tenha interesse, consulte a [tabela com valores equivalentes por tipo de gás](https://ghgprotocol.org/sites/default/files/Global-Warming-Potential-Values%20%28Feb%2016%202016%29_1.pdf)"
      ]
    },
    {
      "cell_type": "markdown",
      "metadata": {
        "id": "JrPoVAEXqf_l"
      },
      "source": [
        "> A análise das emissões de gases de efeito estufa (GEE) frequentemente requer a categorização dos diferentes tipos de gases para facilitar a interpretação e comparação dos dados. Nossa equipe deseja agrupar os gases reportados no conjunto de dados em categorias padronizadas (CO₂, CO₂ equivalente, CH₄, N₂O e Outros) e, a partir disso, entender a distribuição das emissões em 2019."
      ]
    },
    {
      "cell_type": "code",
      "execution_count": null,
      "metadata": {
        "id": "skUZoE9gqeVC"
      },
      "outputs": [],
      "source": []
    },
    {
      "cell_type": "markdown",
      "metadata": {
        "id": "2KObw9bLn8vM"
      },
      "source": [
        "<font size=4>[`polars.DataFrame.with_columns`](https://docs.pola.rs/api/python/stable/reference/dataframe/api/polars.DataFrame.with_columns.html), [`polars.when`](https://docs.pola.rs/api/python/stable/reference/expressions/api/polars.when.html)</font><br>\n",
        "- <font size=3>expressão `when-then-otherwise`</font><br>"
      ]
    },
    {
      "cell_type": "code",
      "execution_count": null,
      "metadata": {
        "id": "hdJUESA3qfCP"
      },
      "outputs": [],
      "source": []
    },
    {
      "cell_type": "code",
      "execution_count": null,
      "metadata": {
        "id": "lhKYERIRql-V"
      },
      "outputs": [],
      "source": []
    },
    {
      "cell_type": "code",
      "execution_count": null,
      "metadata": {
        "id": "ykTxloBEqmja"
      },
      "outputs": [],
      "source": []
    },
    {
      "cell_type": "markdown",
      "metadata": {
        "id": "Pdt7kM-Di5l_"
      },
      "source": [
        "## Avaliando os valores de emissão por setor"
      ]
    },
    {
      "cell_type": "markdown",
      "metadata": {
        "id": "FlkJ8VwprI7E"
      },
      "source": [
        "> Agora nosso objetivo é entender melhor a evolução das emissões de gases de efeito estufa ao longo do tempo de acordo com os setores responsáveis por essas emissões. Nossa equipe deseja verificar como diferentes categorias de setores econômicos (nível 1) contribuíram para as emissões após 2010, possibilitando a identificação de tendências e potenciais mudanças nos padrões de poluição ao longo dos anos. Uma visualização é a forma ideal de apresentar essa informação.\n",
        "\n",
        "<font size=2>[Fonte.](https://www.uol.com.br/ecoa/faq/quais-sao-setores-economicos-que-mais-impactam-o-aquecimento-global.htm)</font><br>\n"
      ]
    },
    {
      "cell_type": "code",
      "execution_count": null,
      "metadata": {
        "id": "0K9rpghqqWf3"
      },
      "outputs": [],
      "source": []
    },
    {
      "cell_type": "code",
      "execution_count": null,
      "metadata": {
        "id": "2f_pjTNBqV2-"
      },
      "outputs": [],
      "source": []
    },
    {
      "cell_type": "markdown",
      "metadata": {
        "id": "m2XTSElZNn5_"
      },
      "source": [
        "<font size=4>[`plotly.express`](https://plotly.com/python/plotly-express/)</font><br>"
      ]
    },
    {
      "cell_type": "markdown",
      "metadata": {
        "id": "Dh1FiK6ez0ke"
      },
      "source": [
        "# Aula 4 - Entendendo dados climáticos através de agrupamentos"
      ]
    },
    {
      "cell_type": "code",
      "execution_count": null,
      "metadata": {
        "id": "Nlxr7ma0yx_T"
      },
      "outputs": [],
      "source": [
        "url_m = ''"
      ]
    },
    {
      "cell_type": "code",
      "execution_count": null,
      "metadata": {
        "id": "5s2bwhtPqLAW"
      },
      "outputs": [],
      "source": []
    },
    {
      "cell_type": "markdown",
      "metadata": {
        "id": "EBT84JydpJwn"
      },
      "source": [
        "| Nome     | Descrição       | Tipo    |\n",
        "|---------------------|----------------|---------|\n",
        "| **ano**    | Ano do  registro    | INT64   |\n",
        "| **data**            | Data do registro (formato YYYY-MM-DD)                                     | STRING  |\n",
        "| **hora**            | Hora do registro (formato HH:MM:SS)                                       | STRING  |\n",
        "| **id_estacao**      | Identificador da estação meteorológica    | STRING  |\n",
        "| **precipitacao_total** | Total de precipitação acumulada no período (mm)                           | FLOAT64 |\n",
        "| **pressao_atm_hora** | Pressão atmosférica observada no horário (hPa)                               | FLOAT64 |\n",
        "| **radiacao_global** | Radiação solar global observada (W/m²)                                     | FLOAT64 |\n",
        "| **temperatura_max** | Temperatura máxima registrada (°C)                                        | FLOAT64 |\n",
        "| **temperatura_min** | Temperatura mínima registrada (°C)                                        | FLOAT64 |\n",
        "| **umidade_rel_hora** | Umidade relativa do ar no horário (%)                                      | INT64   |\n",
        "| **vento_direcao**   | Direção do vento em graus (0–360°)                                         | INT64   |\n",
        "| **vento_velocidade**| Velocidade do vento (m/s)                                                 | FLOAT64 |"
      ]
    },
    {
      "cell_type": "code",
      "execution_count": null,
      "metadata": {
        "id": "lzdnInWuqMDT"
      },
      "outputs": [],
      "source": []
    },
    {
      "cell_type": "markdown",
      "metadata": {
        "id": "mtH2X_AOtdaw"
      },
      "source": [
        "## Selecionando dados por estação"
      ]
    },
    {
      "cell_type": "markdown",
      "metadata": {
        "id": "K8ImTRJdzJJW"
      },
      "source": [
        "> O estado do Piauí apresenta temperaturas elevadas durante grande parte do ano, com destaque para o período conhecido como B-R-O BRÓ (setembro a dezembro), quando as temperaturas atingem seus valores mais extremos. Para compreender melhor as condições climáticas nesse período, é preciso analisar a média de precipitação, a umidade relativa e as temperaturas máximas e mínimas em diferentes cidades do estado. Precisamos dessas informações em uma tabela para as cidades de Teresina, Corrente e Piripiri para obter visão mais ampla da variação climática dentro do Piauí, considerando diferentes localizações e altitudes.\n",
        "\n",
        "<font size=2>[Fonte.](https://g1.globo.com/pi/piaui/especial-publicitario/grupo-med-imagem/noticia/2024/09/30/criancas-e-idosos-sao-os-mais-afetados-pelas-altas-temperaturas-do-b-r-o-bro-afirma-especialista-do-grupo-med-imagem.ghtml)</font><br>\n",
        "\n"
      ]
    },
    {
      "cell_type": "markdown",
      "metadata": {
        "id": "tNJI_f2I8JN7"
      },
      "source": [
        "**ID DAS ESTAÇÕES**\n",
        "\n",
        "- TERESINA - `'A312'`\n",
        "- CORRENTE - `'A374'`\n",
        "- PIRIPIRI - `'A335'`"
      ]
    },
    {
      "cell_type": "code",
      "execution_count": null,
      "metadata": {
        "id": "mKBf6YM2qBjW"
      },
      "outputs": [],
      "source": []
    },
    {
      "cell_type": "markdown",
      "metadata": {
        "id": "B7tb-C-2pg_n"
      },
      "source": [
        "<font size=4>[`polars.Expr.dt.month`](https://docs.pola.rs/api/python/stable/reference/expressions/api/polars.Expr.dt.month.html)</font><br>"
      ]
    },
    {
      "cell_type": "code",
      "execution_count": null,
      "metadata": {
        "id": "j3sDISTRqCNu"
      },
      "outputs": [],
      "source": []
    },
    {
      "cell_type": "code",
      "execution_count": null,
      "metadata": {
        "id": "c8Cz09RWp7JF"
      },
      "outputs": [],
      "source": []
    },
    {
      "cell_type": "markdown",
      "metadata": {
        "id": "eXjpyuzGp2-C"
      },
      "source": [
        "<font size=4>[`polars.dataframe.group_by.GroupBy.mean`](https://docs.pola.rs/api/python/stable/reference/dataframe/api/polars.dataframe.group_by.GroupBy.mean.html)</font><br>"
      ]
    },
    {
      "cell_type": "code",
      "execution_count": null,
      "metadata": {
        "id": "0mMTFIxup6VE"
      },
      "outputs": [],
      "source": []
    },
    {
      "cell_type": "markdown",
      "metadata": {
        "id": "LiXEvLOiOxjj"
      },
      "source": [
        "# Aula 5 - Trabalhando com filtros temporais em estações"
      ]
    },
    {
      "cell_type": "markdown",
      "metadata": {
        "id": "K7Im-HDYOzBY"
      },
      "source": [
        "## Buscando estações do estado do Amazonas"
      ]
    },
    {
      "cell_type": "markdown",
      "metadata": {
        "id": "SoRHf8KXu2oq"
      },
      "source": [
        "> A equipe deseja realizar uma análise específica das estações meteorológicas localizadas no estado do Amazonas (AM). Esse recorte geográfico é relevante porque o Amazonas possui uma grande diversidade climática e desempenha um papel importante no equilíbrio ambiental, influenciando padrões de precipitação e temperatura. Ao filtrar os dados apenas para este estado, será possível investigar com maior precisão variações meteorológicas e correlacioná-las com fenômenos naturais ou impactos ambientais.\n",
        "\n",
        "<font size=2>[Fonte.](https://www.greenpeace.org/brasil/blog/clima-da-amazonia/)</font><br>\n"
      ]
    },
    {
      "cell_type": "code",
      "execution_count": null,
      "metadata": {
        "id": "1pTM-vQiw_w8"
      },
      "outputs": [],
      "source": [
        "url_c = ''"
      ]
    },
    {
      "cell_type": "code",
      "execution_count": null,
      "metadata": {
        "id": "yaTu-CtPpfqE"
      },
      "outputs": [],
      "source": []
    },
    {
      "cell_type": "markdown",
      "metadata": {
        "id": "GqQ-IfZ9pkT4"
      },
      "source": [
        "| Nome             | Descrição      | Tipo    |\n",
        "|-----------------------|---------------------|---------|\n",
        "| **DC_NOME**      | Nome do local ou denominação da estação meteorológica| STRING  |\n",
        "| **SG_ESTADO**    | Sigla do Estado onde se localiza a estação | STRING  |\n",
        "| **CD_SITUACAO**  | Situação operacional da estação                           | STRING  |\n",
        "| **VL_LATITUDE**  | Latitude da estação | STRING  |\n",
        "| **VL_LONGITUDE** | Longitude da estação| STRING  |\n",
        "| **VL_ALTITUDE**  | Altitude da estação       | STRING  |\n",
        "| **DT_INICIO_OPERACAO**| Data de início de operação da estação | STRING  |\n",
        "| **CD_ESTACAO**   | Código único que identifica a estação  | STRING  |"
      ]
    },
    {
      "cell_type": "code",
      "execution_count": null,
      "metadata": {
        "id": "UuLE2CDSpgrA"
      },
      "outputs": [],
      "source": []
    },
    {
      "cell_type": "code",
      "execution_count": null,
      "metadata": {
        "id": "eFwA2yeOpgml"
      },
      "outputs": [],
      "source": []
    },
    {
      "cell_type": "code",
      "execution_count": null,
      "metadata": {
        "id": "HOtpWA4rphr7"
      },
      "outputs": [],
      "source": []
    },
    {
      "cell_type": "markdown",
      "metadata": {
        "id": "o5scyK1hqTx7"
      },
      "source": [
        "<font size=4>[`polars.DataFrame.join`](https://docs.pola.rs/api/python/stable/reference/dataframe/api/polars.DataFrame.join.html)</font><br>"
      ]
    },
    {
      "cell_type": "code",
      "execution_count": null,
      "metadata": {
        "id": "z6x49ZrSplkW"
      },
      "outputs": [],
      "source": []
    },
    {
      "cell_type": "markdown",
      "metadata": {
        "id": "pZw814J0EeUI"
      },
      "source": [
        "## Trabalhando com intervalo de datas"
      ]
    },
    {
      "cell_type": "markdown",
      "metadata": {
        "id": "WpsR23sfM3f9"
      },
      "source": [
        "> A equipe deseja analisar a variação das temperaturas máximas registradas nas estações meteorológicas do Amazonas ao longo do período do último ano. Esse tipo de análise permite identificar padrões sazonais, extremos térmicos e potenciais tendências climáticas que possam impactar a região. Essas variações podem auxiliar em estudos ambientais e na formulação de políticas públicas.\n"
      ]
    },
    {
      "cell_type": "code",
      "execution_count": null,
      "metadata": {
        "id": "mYkc9Z3cpd6c"
      },
      "outputs": [],
      "source": []
    },
    {
      "cell_type": "markdown",
      "metadata": {
        "id": "4csLJV8sqoEZ"
      },
      "source": [
        "<font size=4>[`polars.datetime`](https://docs.pola.rs/api/python/stable/reference/expressions/api/polars.datetime.html)</font><br>"
      ]
    },
    {
      "cell_type": "code",
      "execution_count": null,
      "metadata": {
        "id": "nfuctjENpc15"
      },
      "outputs": [],
      "source": []
    },
    {
      "cell_type": "code",
      "execution_count": null,
      "metadata": {
        "id": "kevmeHHJpcu9"
      },
      "outputs": [],
      "source": []
    },
    {
      "cell_type": "markdown",
      "metadata": {
        "id": "nccHiyPbrBZL"
      },
      "source": [
        "<font size=4>[`polars.DataFrame.pivot`](https://docs.pola.rs/api/python/stable/reference/dataframe/api/polars.DataFrame.pivot.html)</font><br>"
      ]
    },
    {
      "cell_type": "code",
      "execution_count": null,
      "metadata": {
        "id": "e3TpZQV8pbtY"
      },
      "outputs": [],
      "source": []
    },
    {
      "cell_type": "markdown",
      "metadata": {
        "id": "WLvkMCwHEi6W"
      },
      "source": [
        "## Filtrando dados por horários"
      ]
    },
    {
      "cell_type": "markdown",
      "metadata": {
        "id": "5zu63jOIy8M6"
      },
      "source": [
        "> A equipe busca compreender como as temperaturas máximas e mínimas variam ao longo do dia durante o último ano na cidade de Manaus. Analisar as temperaturas por períodos do dia (manhã, tarde e noite) pode fornecer insights importantes sobre padrões térmicos e sua variação sazonal."
      ]
    },
    {
      "cell_type": "code",
      "execution_count": null,
      "metadata": {
        "id": "cFBpQdR5pYvi"
      },
      "outputs": [],
      "source": []
    },
    {
      "cell_type": "code",
      "execution_count": null,
      "metadata": {
        "id": "4FcYyarLpZVI"
      },
      "outputs": [],
      "source": []
    },
    {
      "cell_type": "markdown",
      "metadata": {
        "id": "J84uGJnErSXY"
      },
      "source": [
        "<font size=4>[`polars.time`](https://docs.pola.rs/api/python/stable/reference/expressions/api/polars.time.html)</font><br>"
      ]
    },
    {
      "cell_type": "code",
      "execution_count": null,
      "metadata": {
        "id": "FwN7ql1_paT0"
      },
      "outputs": [],
      "source": []
    },
    {
      "cell_type": "code",
      "execution_count": null,
      "metadata": {
        "id": "vzJyfsCFooGh"
      },
      "outputs": [],
      "source": []
    }
  ],
  "metadata": {
    "colab": {
      "collapsed_sections": [
        "39qo_XwZnb_k",
        "b5I0cmI0JPkN",
        "oZjj3vO8-RZE",
        "n4TFddiGfkoR",
        "Br-jvd5ev-0l",
        "JVN5pkCCMkoz",
        "Pdt7kM-Di5l_",
        "mtH2X_AOtdaw"
      ],
      "provenance": [],
      "toc_visible": true
    },
    "kernelspec": {
      "display_name": "Python 3",
      "name": "python3"
    },
    "language_info": {
      "name": "python"
    }
  },
  "nbformat": 4,
  "nbformat_minor": 0
}
